{
 "cells": [
  {
   "cell_type": "code",
   "execution_count": 13,
   "metadata": {},
   "outputs": [],
   "source": [
    "import numpy as np\n",
    "from copy import deepcopy\n",
    "import sys\n",
    "sys.setrecursionlimit(5000)"
   ]
  },
  {
   "cell_type": "code",
   "execution_count": 4,
   "metadata": {},
   "outputs": [],
   "source": [
    "class Node:\n",
    "    def __init__(self, url):\n",
    "        self.url = url\n",
    "        self.title = None\n",
    "        self.text = None\n",
    "\n",
    "        self.inlinks = []\n",
    "        self.outlinks = []\n",
    "\n",
    "        self.labels = []\n",
    "        self.label = None\n",
    "        self.keyword = None\n",
    "        self.tags = None\n",
    "        self.features = None"
   ]
  },
  {
   "cell_type": "code",
   "execution_count": 30,
   "metadata": {},
   "outputs": [],
   "source": [
    "def node_classifier(graph):\n",
    "    not_labeled = set([i for i in range(len(graph)) if graph[i].label==None])\n",
    "    prev_labels = [deepcopy(node.labels) for node in graph]\n",
    "\n",
    "    iterations = 0\n",
    "    while len(not_labeled)>0 and iterations<len(graph):  # Iterating until all nodes are classified\n",
    "        iterations+=1\n",
    "\n",
    "        max_i, max_v = -1,-2\n",
    "        for i in not_labeled:\n",
    "            node = graph[i]\n",
    "            cnt_labels = np.zeros(4)\n",
    "\n",
    "            # Counting type of labels in neighbouring nodes and storing them in a vector\n",
    "            adj = node.inlinks + node.outlinks\n",
    "            for u in adj:\n",
    "                cnt_labels+=u.labels\n",
    "\n",
    "            # Normalizing vector\n",
    "            avg_labels = cnt_labels/len(adj)\n",
    "            avg_labels /= max(1, np.linalg.norm(avg_labels))\n",
    "\n",
    "            # Taking a dot product with same vector calculated in previous iteration to see its similarity\n",
    "            score = np.dot(avg_labels, prev_labels[i])/(np.linalg.norm(avg_labels)*np.linalg.norm(prev_labels[i]))\n",
    "            prev_labels[i] = avg_labels\n",
    "\n",
    "            # Most similar vector with its previous value is most likely to have been converged\n",
    "            if score>max_v:\n",
    "                max_v=score\n",
    "                max_i=i\n",
    "\n",
    "        # Assigning value of index with most value in vector as label of the node\n",
    "        graph[max_i].label = np.argmax(prev_labels[i])\n",
    "        not_labeled.remove(max_i)\n",
    "\n",
    "        for i in range(len(graph)):\n",
    "            graph[i].labels = prev_labels[i]"
   ]
  },
  {
   "cell_type": "code",
   "execution_count": 31,
   "metadata": {},
   "outputs": [],
   "source": [
    "import pickle\n",
    "with open('editedGraph.txt','rb') as file:\n",
    "    graph_dict = pickle.load(file)\n",
    "\n",
    "graph = [*graph_dict.values()]"
   ]
  },
  {
   "cell_type": "code",
   "execution_count": 32,
   "metadata": {},
   "outputs": [
    {
     "data": {
      "text/plain": [
       "Counter({1: 34, None: 1095, 2: 19, 0: 4, 3: 8})"
      ]
     },
     "execution_count": 32,
     "metadata": {},
     "output_type": "execute_result"
    }
   ],
   "source": [
    "from collections import Counter\n",
    "Counter([x.label for x in graph])"
   ]
  },
  {
   "cell_type": "code",
   "execution_count": 33,
   "metadata": {},
   "outputs": [],
   "source": [
    "node_classifier(graph)"
   ]
  },
  {
   "cell_type": "code",
   "execution_count": 34,
   "metadata": {},
   "outputs": [
    {
     "data": {
      "text/plain": [
       "Counter({1: 1128, 0: 5, 2: 19, 3: 8})"
      ]
     },
     "execution_count": 34,
     "metadata": {},
     "output_type": "execute_result"
    }
   ],
   "source": [
    "Counter([x.label for x in graph])"
   ]
  },
  {
   "cell_type": "code",
   "execution_count": 14,
   "metadata": {},
   "outputs": [],
   "source": [
    "graph_dict = {k:v for k,v in zip([*graph_dict.keys()], graph)}\n",
    "\n",
    "with open('editedGraph.txt','wb') as file:\n",
    "    pickle.dump(graph_dict, file)"
   ]
  }
 ],
 "metadata": {
  "interpreter": {
   "hash": "fc2e62776262f8f078db2e2452279a7d5ccef75714a216a26c8e833b9ce92a2a"
  },
  "kernelspec": {
   "display_name": "Python 3.8.2 64-bit",
   "language": "python",
   "name": "python3"
  },
  "language_info": {
   "codemirror_mode": {
    "name": "ipython",
    "version": 3
   },
   "file_extension": ".py",
   "mimetype": "text/x-python",
   "name": "python",
   "nbconvert_exporter": "python",
   "pygments_lexer": "ipython3",
   "version": "3.8.2"
  },
  "orig_nbformat": 4
 },
 "nbformat": 4,
 "nbformat_minor": 2
}
