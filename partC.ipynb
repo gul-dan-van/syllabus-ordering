{
 "cells": [
  {
   "cell_type": "code",
   "execution_count": 1,
   "metadata": {},
   "outputs": [],
   "source": [
    "class Node:\n",
    "    def __init__(self, url):\n",
    "        self.url = url\n",
    "        self.title = None\n",
    "        self.text = None\n",
    "\n",
    "        self.inlinks = []\n",
    "        self.outlinks = []\n",
    "\n",
    "        self.labels = []\n",
    "        self.label = None\n",
    "        self.keyword = None\n",
    "        self.tags = None\n",
    "        self.features = None"
   ]
  },
  {
   "cell_type": "code",
   "execution_count": 2,
   "metadata": {},
   "outputs": [],
   "source": [
    "import pickle\n",
    "\n",
    "with open('editedGraph.txt', 'rb') as file:\n",
    "    graph_dict = pickle.load(file)\n",
    "\n",
    "graph = [*graph_dict.values()]"
   ]
  },
  {
   "cell_type": "code",
   "execution_count": 4,
   "metadata": {},
   "outputs": [],
   "source": [
    "from queue import Queue\n",
    "from math import comb\n",
    "import numpy as np\n",
    "\n",
    "def degree_centrality(graph):\n",
    "    centrality_score = []\n",
    "    N = sum([len(node.outlinks)+len(node.inlinks) for node in graph])\n",
    "    for node in graph:\n",
    "        score = (len(node.outlinks)+len(node.inlinks))/max(N-1,1) # Degree of current node divided by count of other nodes\n",
    "        centrality_score.append((score, node.url))\n",
    "\n",
    "    return sorted(centrality_score)[::-1]\n",
    "\n",
    "\n",
    "def closeness_centrality(graph):\n",
    "    centrality_score = []\n",
    "    for node in graph:\n",
    "        q=Queue()\n",
    "        vis = set()\n",
    "        sigma = 0\n",
    "        q.put((node,0))  # queue stores tuple of form ( node, depth from root node )\n",
    "        while not q.empty():\n",
    "            u = q.get()\n",
    "            if u[0].url in vis:\n",
    "                continue\n",
    "\n",
    "            vis.add(u[0].url)\n",
    "            sigma += 1/max(1,u[1])  # adding 1/(shortest path from source node) to the closeness centrality score of the source node\n",
    "            for i in u[0].inlinks:\n",
    "                if i.url not in vis:\n",
    "                    q.put((i, u[1]+1))\n",
    "            for i in u[0].outlinks:\n",
    "                if i.url not in vis:\n",
    "                    q.put((i, u[1]+1))\n",
    "\n",
    "        centrality_score.append((sigma, node.url))\n",
    "\n",
    "    return sorted(centrality_score)[::-1]\n",
    "\n",
    "\n",
    "def betweenity_centrality(graph):\n",
    "    pass\n",
    "\n",
    "def clustering_coefficient(graph):\n",
    "    centrality_score = []\n",
    "\n",
    "    for node in graph:\n",
    "        adj = set(node.inlinks + node.outlinks)\n",
    "        degree = len(adj)\n",
    "        if degree<1:\n",
    "            continue\n",
    "\n",
    "        triangles = 0\n",
    "        for u in adj:\n",
    "            adj1 = set(u.inlinks+u.outlinks)\n",
    "            triangles += len(adj&adj1)   # Computing all common neighbours of \"u\" with \"node\", we will later divide them by 2\n",
    "\n",
    "        centrality_score.append((triangles/(2*max(1,comb(degree,2))), node.title))\n",
    "\n",
    "    return centrality_score"
   ]
  },
  {
   "cell_type": "code",
   "execution_count": 5,
   "metadata": {},
   "outputs": [
    {
     "data": {
      "text/plain": [
       "[(0.016595487431502173, 'https://en.wikipedia.org/wiki/ISBN_(identifier)'),\n",
       " (0.013884826147155756, 'https://en.wikipedia.org/wiki/Doi_(identifier)'),\n",
       " (0.01363131106300825, 'https://en.wikipedia.org/wiki/Algorithm'),\n",
       " (0.008326995456229646, 'https://en.wikipedia.org/wiki/S2CID_(identifier)'),\n",
       " (0.006610893348154215, 'https://en.wikipedia.org/wiki/Gravity_of_Earth'),\n",
       " (0.006025858538583046, 'https://en.wikipedia.org/wiki/Mathematics'),\n",
       " (0.005967355057625929, 'https://en.wikipedia.org/wiki/Bibcode_(identifier)'),\n",
       " (0.005850348095711695, 'https://en.wikipedia.org/wiki/JSTOR_(identifier)'),\n",
       " (0.005791844614754578, 'https://en.wikipedia.org/wiki/Na%C3%AFve_algorithm'),\n",
       " (0.005421322568692837, 'https://en.wikipedia.org/wiki/ISSN_(identifier)')]"
      ]
     },
     "execution_count": 5,
     "metadata": {},
     "output_type": "execute_result"
    }
   ],
   "source": [
    "degree_centrality(graph)[:10]"
   ]
  },
  {
   "cell_type": "code",
   "execution_count": 8,
   "metadata": {},
   "outputs": [
    {
     "data": {
      "text/plain": [
       "[(1004.0000000000001, 'https://en.wikipedia.org/wiki/ISBN_(identifier)'),\n",
       " (933.8333333333336, 'https://en.wikipedia.org/wiki/Doi_(identifier)'),\n",
       " (791.0000000000003, 'https://en.wikipedia.org/wiki/S2CID_(identifier)'),\n",
       " (789.3333333333419, 'https://en.wikipedia.org/wiki/Algorithm'),\n",
       " (731.5000000000005, 'https://en.wikipedia.org/wiki/Mathematics'),\n",
       " (729.5000000000006, 'https://en.wikipedia.org/wiki/Bibcode_(identifier)'),\n",
       " (721.0000000000018, 'https://en.wikipedia.org/wiki/JSTOR_(identifier)'),\n",
       " (718.9166666666684, 'https://en.wikipedia.org/wiki/Na%C3%AFve_algorithm'),\n",
       " (705.0000000000032, 'https://en.wikipedia.org/wiki/ISSN_(identifier)'),\n",
       " (678.5, 'https://en.wikipedia.org/wiki/Quadratic_equation')]"
      ]
     },
     "execution_count": 8,
     "metadata": {},
     "output_type": "execute_result"
    }
   ],
   "source": [
    "closeness_centrality(graph)[:10]"
   ]
  },
  {
   "cell_type": "code",
   "execution_count": 7,
   "metadata": {},
   "outputs": [
    {
     "data": {
      "text/plain": [
       "[(0.12105829872327334, 'Quadratic equation - Wikipedia'),\n",
       " (0.148664343786295, 'Multiplicity (mathematics) - Wikipedia'),\n",
       " (0.1285140562248996, 'Gravity of Earth - Wikipedia'),\n",
       " (0.06346460556986873, 'Algorithm - Wikipedia'),\n",
       " (0.3125, 'Polynomial expansion - Wikipedia'),\n",
       " (0.2377403846153846, 'Coefficient - Wikipedia'),\n",
       " (0.2722222222222222, 'Quadratic formula - Wikipedia'),\n",
       " (0.5000776276975625, 'Bicentric quadrilateral - Wikipedia'),\n",
       " (0.4023066485753053, 'Septic equation - Wikipedia'),\n",
       " (0.27598566308243727, 'Third Dynasty of Ur - Wikipedia')]"
      ]
     },
     "execution_count": 7,
     "metadata": {},
     "output_type": "execute_result"
    }
   ],
   "source": [
    "clustering_coefficient(graph)[:10]"
   ]
  },
  {
   "cell_type": "code",
   "execution_count": null,
   "metadata": {},
   "outputs": [],
   "source": []
  }
 ],
 "metadata": {
  "interpreter": {
   "hash": "fc2e62776262f8f078db2e2452279a7d5ccef75714a216a26c8e833b9ce92a2a"
  },
  "kernelspec": {
   "display_name": "Python 3.8.2 64-bit",
   "language": "python",
   "name": "python3"
  },
  "language_info": {
   "codemirror_mode": {
    "name": "ipython",
    "version": 3
   },
   "file_extension": ".py",
   "mimetype": "text/x-python",
   "name": "python",
   "nbconvert_exporter": "python",
   "pygments_lexer": "ipython3",
   "version": "3.8.2"
  },
  "orig_nbformat": 4
 },
 "nbformat": 4,
 "nbformat_minor": 2
}
